{
  "nbformat": 4,
  "nbformat_minor": 0,
  "metadata": {
    "colab": {
      "name": "Day4_notepad.ipynb",
      "provenance": [],
      "collapsed_sections": [],
      "include_colab_link": true
    },
    "kernelspec": {
      "name": "python3",
      "display_name": "Python 3"
    },
    "language_info": {
      "name": "python"
    }
  },
  "cells": [
    {
      "cell_type": "markdown",
      "metadata": {
        "id": "view-in-github",
        "colab_type": "text"
      },
      "source": [
        "<a href=\"https://colab.research.google.com/github/younghoonNa/PythonDT2/blob/main/Day4_notepad.ipynb\" target=\"_parent\"><img src=\"https://colab.research.google.com/assets/colab-badge.svg\" alt=\"Open In Colab\"/></a>"
      ]
    },
    {
      "cell_type": "code",
      "execution_count": null,
      "metadata": {
        "id": "IDM0rC1I8-gF"
      },
      "outputs": [],
      "source": [
        "import numpy as np\n",
        "import pandas as pd\n",
        "import seaborn as sns\n",
        "import matplotlib.pyplot as plt"
      ]
    },
    {
      "cell_type": "code",
      "source": [
        "np.random.seed(0)\n",
        "y = np.random.randint(0, 2, 20)\n",
        "y_pred = y.copy()\n",
        "y_pred[::2] = 0\n",
        "print(y)\n",
        "print(y_pred)"
      ],
      "metadata": {
        "colab": {
          "base_uri": "https://localhost:8080/"
        },
        "id": "k1ZfYL2j9Lq5",
        "outputId": "76f28ad0-8232-4b8d-d383-cd36bbf70fb9"
      },
      "execution_count": null,
      "outputs": [
        {
          "output_type": "stream",
          "name": "stdout",
          "text": [
            "[0 1 1 0 1 1 1 1 1 1 1 0 0 1 0 0 0 0 0 1]\n",
            "[0 1 0 0 0 1 0 1 0 1 0 0 0 1 0 0 0 0 0 1]\n"
          ]
        }
      ]
    },
    {
      "cell_type": "code",
      "source": [
        "from sklearn.metrics import confusion_matrix\n",
        "\n",
        "# tn fp\n",
        "# fn tp\n",
        "confusion_matrix(y, y_pred)"
      ],
      "metadata": {
        "colab": {
          "base_uri": "https://localhost:8080/"
        },
        "id": "l_UdNI_49BnC",
        "outputId": "f8b8a913-b552-43ed-ec2a-784f8171b379"
      },
      "execution_count": null,
      "outputs": [
        {
          "output_type": "execute_result",
          "data": {
            "text/plain": [
              "array([[9, 0],\n",
              "       [5, 6]])"
            ]
          },
          "metadata": {},
          "execution_count": 7
        }
      ]
    },
    {
      "cell_type": "code",
      "source": [
        "tn, fp, fn, tp = confusion_matrix(y, y_pred).ravel()"
      ],
      "metadata": {
        "id": "3gPfDGyP96XJ"
      },
      "execution_count": null,
      "outputs": []
    },
    {
      "cell_type": "code",
      "source": [
        "# accuracy\n",
        "# (tp+tn) / (tp+tn+fp+fn)\n",
        "from sklearn.metrics import accuracy_score\n",
        "\n",
        "accuracy_score(y, y_pred)"
      ],
      "metadata": {
        "colab": {
          "base_uri": "https://localhost:8080/"
        },
        "id": "5hnpNGp4-MJ4",
        "outputId": "a638342d-8355-4a41-a891-4725f14bb463"
      },
      "execution_count": null,
      "outputs": [
        {
          "output_type": "execute_result",
          "data": {
            "text/plain": [
              "0.75"
            ]
          },
          "metadata": {},
          "execution_count": 13
        }
      ]
    },
    {
      "cell_type": "code",
      "source": [
        "# Recall or Sensitivity or True Positive Rate (TPR)\n",
        "# tp/(tp+fn)\n",
        "# tp+fn = 전체 Positive 수\n",
        "from sklearn.metrics import recall_score\n",
        "\n",
        "recall_score(y, y_pred)"
      ],
      "metadata": {
        "colab": {
          "base_uri": "https://localhost:8080/"
        },
        "id": "5m7q_qEs-p-R",
        "outputId": "99b9b3a1-d702-4263-fdee-d9f464094558"
      },
      "execution_count": null,
      "outputs": [
        {
          "output_type": "execute_result",
          "data": {
            "text/plain": [
              "0.5454545454545454"
            ]
          },
          "metadata": {},
          "execution_count": 16
        }
      ]
    },
    {
      "cell_type": "code",
      "source": [
        "# Specificity or True Negative Rate (TNR)\n",
        "# tn/(tn+fp)\n",
        "# tn+fp = 전체 Negative 수\n",
        "from sklearn.metrics import confusion_matrix\n",
        "\n",
        "def specificity_score(y, pred):\n",
        "  tn, fp, fn, tp = confusion_matrix(y, y_pred).ravel()\n",
        "  return tn/(tn+fp)\n",
        "\n",
        "specificity_score(y, y_pred)"
      ],
      "metadata": {
        "colab": {
          "base_uri": "https://localhost:8080/"
        },
        "id": "eOirsZng_DPg",
        "outputId": "99cd9ee2-dba2-4283-9e44-f494f5d520ae"
      },
      "execution_count": null,
      "outputs": [
        {
          "output_type": "execute_result",
          "data": {
            "text/plain": [
              "1.0"
            ]
          },
          "metadata": {},
          "execution_count": 17
        }
      ]
    },
    {
      "cell_type": "code",
      "source": [
        "# Precision or Positive Predictive Value (PPV)\n",
        "# tp/(tp+fp)\n",
        "# tp+fp = Positive로 예측한 데이터 수\n",
        "from sklearn.metrics import precision_score\n",
        "\n",
        "precision_score(y, y_pred)"
      ],
      "metadata": {
        "colab": {
          "base_uri": "https://localhost:8080/"
        },
        "id": "gSJunBum_skp",
        "outputId": "a2d599df-f03d-4cb3-b716-8e75bdb5f951"
      },
      "execution_count": null,
      "outputs": [
        {
          "output_type": "execute_result",
          "data": {
            "text/plain": [
              "1.0"
            ]
          },
          "metadata": {},
          "execution_count": 18
        }
      ]
    },
    {
      "cell_type": "code",
      "source": [
        "# Negative Predictive Value (NPV)\n",
        "# tn/(tn+fn)\n",
        "# tn+fn = Negative로 예측한 데이터 수\n",
        "from sklearn.metrics import confusion_matrix\n",
        "\n",
        "def npv_score(y, pred):\n",
        "  tn, fp, fn, tp = confusion_matrix(y, y_pred).ravel()\n",
        "  return tn/(tn+fn)\n",
        "\n",
        "npv_score(y, y_pred)"
      ],
      "metadata": {
        "colab": {
          "base_uri": "https://localhost:8080/"
        },
        "id": "-dzMT3AGAAny",
        "outputId": "ea531d00-92cd-4b97-fd29-f3ec93ac0780"
      },
      "execution_count": null,
      "outputs": [
        {
          "output_type": "execute_result",
          "data": {
            "text/plain": [
              "0.6428571428571429"
            ]
          },
          "metadata": {},
          "execution_count": 19
        }
      ]
    },
    {
      "cell_type": "code",
      "source": [
        "# f1 score\n",
        "# 2/(1/recall + 1/precision)\n",
        "# recall과 precision의 조화 평균\n",
        "# 데이터 클래스 비율이 다를 경우 정확도 대신 사용할 수 있음\n",
        "from sklearn.metrics import f1_score\n",
        "\n",
        "f1_score(y, y_pred)"
      ],
      "metadata": {
        "colab": {
          "base_uri": "https://localhost:8080/"
        },
        "id": "ouPF4msQBNOa",
        "outputId": "cec3e21c-70b4-48ff-ace8-7fbced3752ee"
      },
      "execution_count": null,
      "outputs": [
        {
          "output_type": "execute_result",
          "data": {
            "text/plain": [
              "0.7058823529411764"
            ]
          },
          "metadata": {},
          "execution_count": 20
        }
      ]
    },
    {
      "cell_type": "code",
      "source": [
        "# f beta score\n",
        "# 다른 가중치를 갖는 recall과 precision의 조화 평균\n",
        "from sklearn.metrics import fbeta_score\n",
        "\n",
        "# beta == 1 f1\n",
        "# beta > 1 recall 우선\n",
        "# beta < 0 precision 우선\n",
        "print(fbeta_score(y, y_pred, beta=2))\n",
        "print(fbeta_score(y, y_pred, beta=0.5))"
      ],
      "metadata": {
        "colab": {
          "base_uri": "https://localhost:8080/"
        },
        "id": "FA3lkHUsB9QX",
        "outputId": "11497016-20ee-4600-883a-8ba713b02c61"
      },
      "execution_count": null,
      "outputs": [
        {
          "output_type": "stream",
          "name": "stdout",
          "text": [
            "0.6\n",
            "0.8571428571428571\n"
          ]
        }
      ]
    },
    {
      "cell_type": "code",
      "source": [
        "# Receiver operating characteristic (ROC)\n",
        "# 서로 다른 threshold에 대한 FPR과 TPR의 관계 커브\n",
        "# False Positive Rate (FPR)\n",
        "# 실제는 Negative인 클래스를 Positive로 잘못 예측한 비율\n",
        "# fp/(fp+tn)\n",
        "# fp+tn = 전체 Negative\n",
        "from sklearn.metrics import roc_curve\n",
        "\n",
        "fpr, tpr, thresh = roc_curve(y, y_pred)\n",
        "\n",
        "print(fpr)\n",
        "print(tpr)\n",
        "print(thresh)\n",
        "\n",
        "plt.plot([0, 1], [0,1], 'k--')\n",
        "plt.plot(fpr, tpr)"
      ],
      "metadata": {
        "colab": {
          "base_uri": "https://localhost:8080/",
          "height": 338
        },
        "id": "lQp8u48vCdeC",
        "outputId": "796c010c-031e-4973-e080-bc55fd64ed8a"
      },
      "execution_count": null,
      "outputs": [
        {
          "output_type": "stream",
          "name": "stdout",
          "text": [
            "[0. 0. 1.]\n",
            "[0.         0.54545455 1.        ]\n",
            "[2 1 0]\n"
          ]
        },
        {
          "output_type": "execute_result",
          "data": {
            "text/plain": [
              "[<matplotlib.lines.Line2D at 0x7f4b7f91e2d0>]"
            ]
          },
          "metadata": {},
          "execution_count": 28
        },
        {
          "output_type": "display_data",
          "data": {
            "image/png": "[encoded data removed]",
            "text/plain": [
              "<Figure size 432x288 with 1 Axes>"
            ]
          },
          "metadata": {
            "needs_background": "light"
          }
        }
      ]
    },
    {
      "cell_type": "code",
      "source": [
        "# Area Under the Curve (AUC)\n",
        "from sklearn.metrics import auc\n",
        "\n",
        "auc(fpr,tpr)"
      ],
      "metadata": {
        "colab": {
          "base_uri": "https://localhost:8080/"
        },
        "id": "GBxwf-54D7Yx",
        "outputId": "5441865d-e228-4f5f-ef0e-ae86a850ba38"
      },
      "execution_count": null,
      "outputs": [
        {
          "output_type": "execute_result",
          "data": {
            "text/plain": [
              "0.7727272727272727"
            ]
          },
          "metadata": {},
          "execution_count": 29
        }
      ]
    },
    {
      "cell_type": "code",
      "source": [
        "from sklearn.metrics import roc_auc_score\n",
        "\n",
        "roc_auc_score(y, y_pred)"
      ],
      "metadata": {
        "colab": {
          "base_uri": "https://localhost:8080/"
        },
        "id": "a7hHQ-YLEjQq",
        "outputId": "8f309141-dbdd-43c3-f31d-610597215933"
      },
      "execution_count": null,
      "outputs": [
        {
          "output_type": "execute_result",
          "data": {
            "text/plain": [
              "0.7727272727272727"
            ]
          },
          "metadata": {},
          "execution_count": 32
        }
      ]
    }
  ]
}